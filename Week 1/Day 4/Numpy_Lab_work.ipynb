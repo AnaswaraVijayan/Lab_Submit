{
 "cells": [
  {
   "cell_type": "code",
   "execution_count": 3,
   "id": "0a259b9e",
   "metadata": {},
   "outputs": [],
   "source": [
    "#1\n",
    "import numpy as np"
   ]
  },
  {
   "cell_type": "code",
   "execution_count": 2,
   "id": "7deed5d0",
   "metadata": {},
   "outputs": [
    {
     "data": {
      "text/plain": [
       "array([0., 0., 0., 0., 0., 0., 0., 0., 0., 0.])"
      ]
     },
     "execution_count": 2,
     "metadata": {},
     "output_type": "execute_result"
    }
   ],
   "source": [
    "#2\n",
    "null_vector=np.zeros(10)\n",
    "null_vector"
   ]
  },
  {
   "cell_type": "code",
   "execution_count": 3,
   "id": "cf5e1720",
   "metadata": {},
   "outputs": [
    {
     "data": {
      "text/plain": [
       "array([0., 0., 0., 0., 1., 0., 0., 0., 0., 0.])"
      ]
     },
     "execution_count": 3,
     "metadata": {},
     "output_type": "execute_result"
    }
   ],
   "source": [
    "#3\n",
    "null_vector=np.zeros(10)\n",
    "null_vector[4]=1\n",
    "null_vector"
   ]
  },
  {
   "cell_type": "code",
   "execution_count": 4,
   "id": "f8823e3e",
   "metadata": {},
   "outputs": [
    {
     "data": {
      "text/plain": [
       "array([10, 11, 12, 13, 14, 15, 16, 17, 18, 19, 20, 21, 22, 23, 24, 25, 26,\n",
       "       27, 28, 29, 30, 31, 32, 33, 34, 35, 36, 37, 38, 39, 40, 41, 42, 43,\n",
       "       44, 45, 46, 47, 48, 49])"
      ]
     },
     "execution_count": 4,
     "metadata": {},
     "output_type": "execute_result"
    }
   ],
   "source": [
    "#4\n",
    "vector=np.arange(10,50)\n",
    "vector"
   ]
  },
  {
   "cell_type": "code",
   "execution_count": 5,
   "id": "e6e5f07c",
   "metadata": {},
   "outputs": [
    {
     "data": {
      "text/plain": [
       "array([[0, 1, 2],\n",
       "       [3, 4, 5],\n",
       "       [6, 7, 8]])"
      ]
     },
     "execution_count": 5,
     "metadata": {},
     "output_type": "execute_result"
    }
   ],
   "source": [
    "#5\n",
    "vector=np.arange(0,9).reshape((3,3))\n",
    "vector"
   ]
  },
  {
   "cell_type": "code",
   "execution_count": 4,
   "id": "1227bbf1",
   "metadata": {},
   "outputs": [
    {
     "data": {
      "text/plain": [
       "(array([0, 1, 4], dtype=int64),)"
      ]
     },
     "execution_count": 4,
     "metadata": {},
     "output_type": "execute_result"
    }
   ],
   "source": [
    " #6\n",
    "np.nonzero([1,2,0,0,4,0])"
   ]
  },
  {
   "cell_type": "code",
   "execution_count": 5,
   "id": "ce058e2c",
   "metadata": {},
   "outputs": [
    {
     "data": {
      "text/plain": [
       "array([[1., 0., 0.],\n",
       "       [0., 1., 0.],\n",
       "       [0., 0., 1.]])"
      ]
     },
     "execution_count": 5,
     "metadata": {},
     "output_type": "execute_result"
    }
   ],
   "source": [
    "#7\n",
    "arr=np.eye(3,3)\n",
    "arr"
   ]
  },
  {
   "cell_type": "code",
   "execution_count": null,
   "id": "4b5db97c",
   "metadata": {},
   "outputs": [],
   "source": [
    "#8\n",
    "output=np.random.random((3,3,3))\n",
    "output"
   ]
  },
  {
   "cell_type": "code",
   "execution_count": null,
   "id": "8f268b70",
   "metadata": {},
   "outputs": [],
   "source": [
    "#9\n",
    "a=np.random.rand(10,10)\n",
    "min=np.min(a)\n",
    "max=np.max(a)\n",
    "print(min,max)"
   ]
  },
  {
   "cell_type": "code",
   "execution_count": null,
   "id": "3ffd7eb2",
   "metadata": {},
   "outputs": [],
   "source": [
    "#10\n",
    "a=np.random.rand(30)\n",
    "mean=np.mean(a)\n",
    "mean"
   ]
  },
  {
   "cell_type": "code",
   "execution_count": null,
   "id": "3339bfc1",
   "metadata": {},
   "outputs": [],
   "source": [
    "#11\n",
    "diagonal_values = [1, 2, 3, 4]\n",
    "matrix= np.diag(diagonal_values, k=-1)\n",
    "matrix"
   ]
  },
  {
   "cell_type": "code",
   "execution_count": null,
   "id": "03b7bc39",
   "metadata": {},
   "outputs": [],
   "source": [
    "#12\n",
    "matrix=np.random.rand(5,5)\n",
    "mean=np.mean(matrix)\n",
    "std=np.std(matrix)\n",
    "normalized_matrix=(matrix-mean)/std\n",
    "normalized_matrix"
   ]
  },
  {
   "cell_type": "code",
   "execution_count": 22,
   "id": "593dce88",
   "metadata": {},
   "outputs": [
    {
     "data": {
      "text/plain": [
       "array([[-1.15316833,  0.3416142 ,  0.08847281,  0.02344683, -1.48247512],\n",
       "       [-0.59465132, -0.07718346,  0.05751353,  1.11941023,  0.0493333 ],\n",
       "       [ 0.44931443,  1.02433947,  0.34253654, -0.1660148 ,  0.10310645],\n",
       "       [-0.08385181,  0.15560781,  0.70066936,  0.79270061,  1.52906898],\n",
       "       [ 2.00055957, -0.15627931, -1.45740169,  0.63517837, -1.4890455 ]])"
      ]
     },
     "execution_count": 22,
     "metadata": {},
     "output_type": "execute_result"
    }
   ],
   "source": [
    "matrix1=np.random.random((5,5))\n",
    "matrix1_new=np.random.normal(0,1,(5,5))\n",
    "matrix1_new"
   ]
  },
  {
   "cell_type": "code",
   "execution_count": null,
   "id": "5891fad9",
   "metadata": {},
   "outputs": [],
   "source": [
    "#13\n",
    "a_1= ([1, 2, 3, 4, 5])\n",
    "a_2= ([4, 5, 6, 7, 8])\n",
    "common_values=np.intersect1d(a_1,a_2)\n",
    "common_values"
   ]
  },
  {
   "cell_type": "code",
   "execution_count": null,
   "id": "05929ef8",
   "metadata": {},
   "outputs": [],
   "source": [
    "#14\n",
    "list=np.random.rand(10)\n",
    "new=np.sort(list)\n",
    "new"
   ]
  },
  {
   "cell_type": "code",
   "execution_count": null,
   "id": "5da08646",
   "metadata": {},
   "outputs": [],
   "source": [
    "#15\n",
    "list=np.random.rand(10)\n",
    "max_value=np.max(list)\n",
    "index_max=np.argmax(max_value)\n",
    "list[index_max]=0\n",
    "list"
   ]
  },
  {
   "cell_type": "code",
   "execution_count": 25,
   "id": "3f42fbf6",
   "metadata": {},
   "outputs": [
    {
     "data": {
      "text/plain": [
       "array([[5.66666667],\n",
       "       [3.33333333],\n",
       "       [4.33333333]])"
      ]
     },
     "execution_count": 25,
     "metadata": {},
     "output_type": "execute_result"
    }
   ],
   "source": [
    "#16\n",
    "random=np.random.randint(0,10,(3,3))\n",
    "new_array=np.mean(random,keepdims=True,axis=1)\n",
    "new_array"
   ]
  },
  {
   "cell_type": "code",
   "execution_count": 9,
   "id": "6f47b064",
   "metadata": {},
   "outputs": [
    {
     "name": "stdout",
     "output_type": "stream",
     "text": [
      "[[1 7 6]\n",
      " [6 5 1]\n",
      " [6 5 5]\n",
      " [2 6 5]\n",
      " [9 8 9]]\n"
     ]
    },
    {
     "data": {
      "text/plain": [
       "array([[ 1, 49, 36],\n",
       "       [36, 25,  1],\n",
       "       [36, 25, 25],\n",
       "       [ 2, 36, 25],\n",
       "       [81, 64, 81]])"
      ]
     },
     "execution_count": 9,
     "metadata": {},
     "output_type": "execute_result"
    }
   ],
   "source": [
    "#18\n",
    "array=np.random.randint(1,10,(5,3))\n",
    "print(array)\n",
    "new_array=np.where(array>4,array**2,array)\n",
    "new_array"
   ]
  },
  {
   "cell_type": "code",
   "execution_count": 28,
   "id": "e056abd4",
   "metadata": {},
   "outputs": [
    {
     "data": {
      "text/plain": [
       "array([   5,    6,    7, ..., 9997, 9998, 9999])"
      ]
     },
     "execution_count": 28,
     "metadata": {},
     "output_type": "execute_result"
    }
   ],
   "source": [
    "#17\n",
    "import numpy as np\n",
    "\n",
    "\n",
    "Z = np.arange(10000)\n",
    "partitioned_array = np.partition(Z, 5)\n",
    "   \n",
    "n_largest_values = partitioned_array[5:]\n",
    "n_largest_values\n",
    "\n",
    "    "
   ]
  },
  {
   "cell_type": "code",
   "execution_count": null,
   "id": "f3f66a30",
   "metadata": {},
   "outputs": [],
   "source": []
  }
 ],
 "metadata": {
  "kernelspec": {
   "display_name": "Python 3 (ipykernel)",
   "language": "python",
   "name": "python3"
  },
  "language_info": {
   "codemirror_mode": {
    "name": "ipython",
    "version": 3
   },
   "file_extension": ".py",
   "mimetype": "text/x-python",
   "name": "python",
   "nbconvert_exporter": "python",
   "pygments_lexer": "ipython3",
   "version": "3.10.9"
  }
 },
 "nbformat": 4,
 "nbformat_minor": 5
}
