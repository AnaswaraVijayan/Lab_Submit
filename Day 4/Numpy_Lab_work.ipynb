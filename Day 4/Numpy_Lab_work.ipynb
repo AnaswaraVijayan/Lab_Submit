{
 "cells": [
  {
   "cell_type": "code",
   "execution_count": 1,
   "id": "0a259b9e",
   "metadata": {},
   "outputs": [],
   "source": [
    "#1\n",
    "import numpy as np"
   ]
  },
  {
   "cell_type": "code",
   "execution_count": 3,
   "id": "7deed5d0",
   "metadata": {},
   "outputs": [
    {
     "data": {
      "text/plain": [
       "array([0., 0., 0., 0., 0., 0., 0., 0., 0., 0.])"
      ]
     },
     "execution_count": 3,
     "metadata": {},
     "output_type": "execute_result"
    }
   ],
   "source": [
    "#2\n",
    "null_vector=np.zeros(10)\n",
    "null_vector"
   ]
  },
  {
   "cell_type": "code",
   "execution_count": 4,
   "id": "cf5e1720",
   "metadata": {},
   "outputs": [
    {
     "data": {
      "text/plain": [
       "array([0., 0., 0., 0., 1., 0., 0., 0., 0., 0.])"
      ]
     },
     "execution_count": 4,
     "metadata": {},
     "output_type": "execute_result"
    }
   ],
   "source": [
    "#3\n",
    "null_vector=np.zeros(10)\n",
    "null_vector[4]=1\n",
    "null_vector"
   ]
  },
  {
   "cell_type": "code",
   "execution_count": 8,
   "id": "f8823e3e",
   "metadata": {},
   "outputs": [
    {
     "data": {
      "text/plain": [
       "array([10, 11, 12, 13, 14, 15, 16, 17, 18, 19, 20, 21, 22, 23, 24, 25, 26,\n",
       "       27, 28, 29, 30, 31, 32, 33, 34, 35, 36, 37, 38, 39, 40, 41, 42, 43,\n",
       "       44, 45, 46, 47, 48, 49])"
      ]
     },
     "execution_count": 8,
     "metadata": {},
     "output_type": "execute_result"
    }
   ],
   "source": [
    "#4\n",
    "vector=np.arange(10,50)\n",
    "vector"
   ]
  },
  {
   "cell_type": "code",
   "execution_count": 11,
   "id": "e6e5f07c",
   "metadata": {},
   "outputs": [
    {
     "data": {
      "text/plain": [
       "array([[0, 1, 2],\n",
       "       [3, 4, 5],\n",
       "       [6, 7, 8]])"
      ]
     },
     "execution_count": 11,
     "metadata": {},
     "output_type": "execute_result"
    }
   ],
   "source": [
    "#5\n",
    "vector=np.arange(0,9).reshape((3,3))\n",
    "vector"
   ]
  },
  {
   "cell_type": "code",
   "execution_count": 12,
   "id": "1227bbf1",
   "metadata": {},
   "outputs": [
    {
     "data": {
      "text/plain": [
       "(array([0, 1, 4], dtype=int64),)"
      ]
     },
     "execution_count": 12,
     "metadata": {},
     "output_type": "execute_result"
    }
   ],
   "source": [
    " #6\n",
    "    np.nonzero([1,2,0,0,4,0])"
   ]
  },
  {
   "cell_type": "code",
   "execution_count": 14,
   "id": "ce058e2c",
   "metadata": {},
   "outputs": [
    {
     "data": {
      "text/plain": [
       "array([[1., 0., 0.],\n",
       "       [0., 1., 0.],\n",
       "       [0., 0., 1.]])"
      ]
     },
     "execution_count": 14,
     "metadata": {},
     "output_type": "execute_result"
    }
   ],
   "source": [
    "#7\n",
    "arr=np.eye(3,3)\n",
    "arr"
   ]
  },
  {
   "cell_type": "code",
   "execution_count": 16,
   "id": "4b5db97c",
   "metadata": {},
   "outputs": [
    {
     "data": {
      "text/plain": [
       "array([[[0.47063462, 0.34257686, 0.19242265],\n",
       "        [0.93824059, 0.95298046, 0.84894235],\n",
       "        [0.91051581, 0.94281294, 0.50704505]],\n",
       "\n",
       "       [[0.61702266, 0.83104609, 0.35420023],\n",
       "        [0.0092097 , 0.46892108, 0.69554463],\n",
       "        [0.77618717, 0.41374236, 0.94300945]],\n",
       "\n",
       "       [[0.51606234, 0.62435329, 0.49788495],\n",
       "        [0.92166019, 0.34238486, 0.25144073],\n",
       "        [0.07674303, 0.32799602, 0.58776323]]])"
      ]
     },
     "execution_count": 16,
     "metadata": {},
     "output_type": "execute_result"
    }
   ],
   "source": [
    "#8\n",
    "output=np.random.random((3,3,3))\n",
    "output"
   ]
  },
  {
   "cell_type": "code",
   "execution_count": 24,
   "id": "8f268b70",
   "metadata": {},
   "outputs": [
    {
     "name": "stdout",
     "output_type": "stream",
     "text": [
      "0.0006484444299575953 0.9971309124679026\n"
     ]
    }
   ],
   "source": [
    "#9\n",
    "a=np.random.rand(10,10)\n",
    "min=np.min(a)\n",
    "max=np.max(a)\n",
    "print(min,max)"
   ]
  },
  {
   "cell_type": "code",
   "execution_count": 28,
   "id": "3ffd7eb2",
   "metadata": {},
   "outputs": [
    {
     "data": {
      "text/plain": [
       "0.5825990789343898"
      ]
     },
     "execution_count": 28,
     "metadata": {},
     "output_type": "execute_result"
    }
   ],
   "source": [
    "#10\n",
    "a=np.random.rand(30)\n",
    "mean=np.mean(a)\n",
    "mean"
   ]
  },
  {
   "cell_type": "code",
   "execution_count": 31,
   "id": "3339bfc1",
   "metadata": {},
   "outputs": [
    {
     "data": {
      "text/plain": [
       "array([[0, 0, 0, 0, 0],\n",
       "       [1, 0, 0, 0, 0],\n",
       "       [0, 2, 0, 0, 0],\n",
       "       [0, 0, 3, 0, 0],\n",
       "       [0, 0, 0, 4, 0]])"
      ]
     },
     "execution_count": 31,
     "metadata": {},
     "output_type": "execute_result"
    }
   ],
   "source": [
    "#11\n",
    "diagonal_values = [1, 2, 3, 4]\n",
    "matrix= np.diag(diagonal_values, k=-1)\n",
    "matrix"
   ]
  },
  {
   "cell_type": "code",
   "execution_count": 36,
   "id": "03b7bc39",
   "metadata": {},
   "outputs": [
    {
     "data": {
      "text/plain": [
       "array([[ 0.92785745, -1.09567959, -0.69503525, -1.64202004, -1.37030747],\n",
       "       [-0.71896809,  1.19761706, -0.22540381,  0.82723239,  1.04185743],\n",
       "       [ 0.32512359, -1.06973791, -0.87798306,  1.41970763,  0.10531864],\n",
       "       [-0.88914724,  1.11914378, -0.08348031,  0.4585077 ,  0.26043213],\n",
       "       [-1.67728684,  1.79104878,  1.01564031, -0.65143317,  0.5069959 ]])"
      ]
     },
     "execution_count": 36,
     "metadata": {},
     "output_type": "execute_result"
    }
   ],
   "source": [
    "#12\n",
    "matrix=np.random.rand(5,5)\n",
    "mean=np.mean(matrix)\n",
    "std=np.std(matrix)\n",
    "normalized_matrix=(matrix-mean)/std\n",
    "normalized_matrix"
   ]
  },
  {
   "cell_type": "code",
   "execution_count": 5,
   "id": "5891fad9",
   "metadata": {},
   "outputs": [
    {
     "data": {
      "text/plain": [
       "array([4, 5])"
      ]
     },
     "execution_count": 5,
     "metadata": {},
     "output_type": "execute_result"
    }
   ],
   "source": [
    "#13\n",
    "a_1= ([1, 2, 3, 4, 5])\n",
    "a_2= ([4, 5, 6, 7, 8])\n",
    "common_values=np.intersect1d(a_1,a_2)\n",
    "common_values"
   ]
  },
  {
   "cell_type": "code",
   "execution_count": 8,
   "id": "8d8720c1",
   "metadata": {},
   "outputs": [
    {
     "data": {
      "text/plain": [
       "array([0.00624627, 0.11078946, 0.12154806, 0.29471449, 0.53285851,\n",
       "       0.54282407, 0.56333346, 0.59647958, 0.6960599 , 0.83438287])"
      ]
     },
     "execution_count": 8,
     "metadata": {},
     "output_type": "execute_result"
    }
   ],
   "source": [
    "#14\n",
    "list=np.random.rand(10)\n",
    "new=np.sort(list)\n",
    "new"
   ]
  },
  {
   "cell_type": "code",
   "execution_count": 11,
   "id": "c8bea742",
   "metadata": {},
   "outputs": [
    {
     "data": {
      "text/plain": [
       "array([0.        , 0.71531267, 0.73275965, 0.93506648, 0.41546842,\n",
       "       0.6610313 , 0.71808706, 0.32440306, 0.51087956, 0.92035138])"
      ]
     },
     "execution_count": 11,
     "metadata": {},
     "output_type": "execute_result"
    }
   ],
   "source": [
    "#15\n",
    "list=np.random.rand(10)\n",
    "max_value=np.max(list)\n",
    "index_max=np.argmax(max_value)\n",
    "list[index_max]=0\n",
    "list"
   ]
  },
  {
   "cell_type": "code",
   "execution_count": null,
   "id": "f92a25e5",
   "metadata": {},
   "outputs": [],
   "source": [
    "#16"
   ]
  }
 ],
 "metadata": {
  "kernelspec": {
   "display_name": "Python 3 (ipykernel)",
   "language": "python",
   "name": "python3"
  },
  "language_info": {
   "codemirror_mode": {
    "name": "ipython",
    "version": 3
   },
   "file_extension": ".py",
   "mimetype": "text/x-python",
   "name": "python",
   "nbconvert_exporter": "python",
   "pygments_lexer": "ipython3",
   "version": "3.10.9"
  }
 },
 "nbformat": 4,
 "nbformat_minor": 5
}
